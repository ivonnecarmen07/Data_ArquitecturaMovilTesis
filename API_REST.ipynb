{
  "nbformat": 4,
  "nbformat_minor": 0,
  "metadata": {
    "colab": {
      "provenance": []
    },
    "kernelspec": {
      "name": "python3",
      "display_name": "Python 3"
    },
    "language_info": {
      "name": "python"
    }
  },
  "cells": [
    {
      "cell_type": "code",
      "execution_count": null,
      "metadata": {
        "id": "mteJL9PXkT8l"
      },
      "outputs": [],
      "source": [
        "from flask import Flask, request, jsonify\n",
        "\n",
        "app = Flask(__name__)\n",
        "\n",
        "# Endpoint para encender el enchufe\n",
        "@app.route('/encender', methods=['POST'])\n",
        "def encender_enchufe():\n",
        "    # Código para encender el enchufe\n",
        "    return jsonify({'mensaje': 'Enchufe encendido'})\n",
        "\n",
        "# Endpoint para apagar el enchufe\n",
        "@app.route('/apagar', methods=['POST'])\n",
        "def apagar_enchufe():\n",
        "    # Código para apagar el enchufe\n",
        "    return jsonify({'mensaje': 'Enchufe apagado'})\n",
        "\n",
        "# Endpoint para obtener el consumo de energía\n",
        "@app.route('/consumo', methods=['GET'])\n",
        "def obtener_consumo():\n",
        "    # Código para obtener el consumo de energía\n",
        "    consumo_actual = 100  # Ejemplo de consumo actual\n",
        "    return jsonify({'consumo_actual': consumo_actual})\n",
        "\n",
        "if __name__ == '__main__':\n",
        "    app.run(debug=True)"
      ]
    }
  ]
}