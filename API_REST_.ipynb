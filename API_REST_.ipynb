{
  "nbformat": 4,
  "nbformat_minor": 0,
  "metadata": {
    "colab": {
      "provenance": [],
      "authorship_tag": "ABX9TyPpU0MdcuMXy15jjCxX2qAo"
    },
    "kernelspec": {
      "name": "python3",
      "display_name": "Python 3"
    },
    "language_info": {
      "name": "python"
    }
  },
  "cells": [
    {
      "cell_type": "code",
      "source": [
        "from flask import Flask, jsonify\n",
        "from kasa import SmartPlug\n",
        "\n",
        "app = Flask(__name__)\n",
        "\n",
        "# Dirección IP del dispositivo TP-Link\n",
        "DEVICE_IP = \"192.168.223.4\"  # Reemplaza con la dirección IP de tu dispositivo\n",
        "\n",
        "# Ruta de bienvenida\n",
        "@app.route('/')\n",
        "def welcome():\n",
        "    return '¡Bienvenido! El servidor está funcionando correctamente.'\n",
        "\n",
        "# Función para encender el dispositivo\n",
        "@app.route('/turn-on', methods=['POST'])\n",
        "def turn_on_device():\n",
        "    try:\n",
        "        plug = SmartPlug(DEVICE_IP)\n",
        "        plug.turn_on()\n",
        "        return jsonify({\"message\": \"Device turned on successfully\"}), 200\n",
        "    except Exception as e:\n",
        "        return jsonify({\"error\": str(e)}), 500\n",
        "\n",
        "# Función para apagar el dispositivo\n",
        "@app.route('/turn-off', methods=['POST'])\n",
        "def turn_off_device():\n",
        "    try:\n",
        "        plug = SmartPlug(DEVICE_IP)\n",
        "        plug.turn_off()\n",
        "        return jsonify({\"message\": \"Device turned off successfully\"}), 200\n",
        "    except Exception as e:\n",
        "        return jsonify({\"error\": str(e)}), 500\n",
        "\n",
        "# Función para obtener el estado del dispositivo\n",
        "@app.route('/get-state', methods=['GET'])\n",
        "def get_device_state():\n",
        "    try:\n",
        "        plug = SmartPlug(DEVICE_IP)\n",
        "        state = plug.state_information\n",
        "        return jsonify(state), 200\n",
        "    except Exception as e:\n",
        "        return jsonify({\"error\": str(e)}), 500\n",
        "\n",
        "# Nueva función para obtener datos de consumo del dispositivo\n",
        "@app.route('/get-energy', methods=['GET'])\n",
        "def get_device_energy():\n",
        "    try:\n",
        "        plug = SmartPlug(DEVICE_IP)\n",
        "        energy_data = plug.emeter_realtime\n",
        "        return jsonify(energy_data), 200  # Esto causará un error\n",
        "    except Exception as e:\n",
        "        return jsonify({\"error\": str(e)}), 500\n",
        "\n",
        "if __name__ == '__main__':\n",
        "  app.run(ssl_context=('C:\\\\Users\\\\Ivonc\\\\Downloads\\\\certificates\\\\cert.pem', 'C:\\\\Users\\\\Ivonc\\\\Downloads\\\\certificates\\\\key.pem'), debug=True)\n",
        "\n"
      ],
      "metadata": {
        "id": "GJ1RtCEE36Y6"
      },
      "execution_count": null,
      "outputs": []
    }
  ]
}